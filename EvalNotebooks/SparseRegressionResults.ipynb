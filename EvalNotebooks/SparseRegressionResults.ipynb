{
 "cells": [
  {
   "cell_type": "code",
   "execution_count": null,
   "id": "3d8820f9",
   "metadata": {},
   "outputs": [],
   "source": [
    "# Only run once!!\n",
    "import os\n",
    "\n",
    "os.chdir(\"../src/\")"
   ]
  },
  {
   "cell_type": "code",
   "execution_count": null,
   "id": "230fd010",
   "metadata": {},
   "outputs": [],
   "source": [
    "from collections import OrderedDict\n",
    "import re\n",
    "import os\n",
    "import math\n",
    "import matplotlib.pyplot as plt\n",
    "import matplotlib\n",
    "import pandas as pd\n",
    "import seaborn as sns\n",
    "import torch\n",
    "from tqdm.notebook import tqdm\n",
    "\n",
    "from eval import get_run_metrics, read_run_dir, get_model_from_run\n",
    "from plot_utils import basic_plot, collect_results, relevant_model_names\n",
    "from samplers import get_data_sampler\n",
    "from tasks import get_task_sampler\n",
    "\n",
    "import matplotlib as mpl\n",
    "from sklearn.linear_model import LinearRegression, Lasso, LassoCV, SGDRegressor, Ridge\n",
    "import numpy as np\n",
    "import cvxpy\n",
    "from cvxpy import Variable, Minimize, Problem\n",
    "from cvxpy import norm as cvxnorm\n",
    "\n",
    "# from cvxpy import mul_elemwise, SCS\n",
    "from cvxpy import vec as cvxvec\n",
    "\n",
    "%matplotlib inline\n",
    "%load_ext autoreload\n",
    "%autoreload 2\n",
    "\n",
    "sns.set_theme(\"notebook\", \"darkgrid\")\n",
    "palette = sns.color_palette(\"colorblind\")\n",
    "mpl.rcParams[\"figure.dpi\"] = 300\n",
    "mpl.rcParams[\"text.usetex\"] = True\n",
    "\n",
    "matplotlib.rcParams.update(\n",
    "    {\n",
    "        \"axes.titlesize\": 8,\n",
    "        \"figure.titlesize\": 10,  # was 10\n",
    "        \"legend.fontsize\": 10,  # was 10\n",
    "        \"xtick.labelsize\": 6,\n",
    "        \"ytick.labelsize\": 6,\n",
    "    }\n",
    ")\n",
    "run_dir = \"../models\""
   ]
  },
  {
   "cell_type": "code",
   "execution_count": null,
   "id": "93a0ce90",
   "metadata": {},
   "outputs": [],
   "source": [
    "SPINE_COLOR = \"gray\"\n",
    "\n",
    "\n",
    "def format_axes(ax):\n",
    "    for spine in [\"top\", \"right\"]:\n",
    "        ax.spines[spine].set_color(SPINE_COLOR)\n",
    "        ax.spines[spine].set_linewidth(0.5)\n",
    "\n",
    "    for spine in [\"left\", \"bottom\"]:\n",
    "        ax.spines[spine].set_color(SPINE_COLOR)\n",
    "        ax.spines[spine].set_linewidth(0.5)\n",
    "\n",
    "    ax.xaxis.set_ticks_position(\"bottom\")\n",
    "    ax.yaxis.set_ticks_position(\"left\")\n",
    "\n",
    "    for axis in [ax.xaxis, ax.yaxis]:\n",
    "        axis.set_tick_params(direction=\"out\", color=SPINE_COLOR)\n",
    "    return ax"
   ]
  },
  {
   "cell_type": "code",
   "execution_count": null,
   "id": "49748fc1",
   "metadata": {},
   "outputs": [],
   "source": [
    "task = \"sparse_linear_regression\"\n",
    "run_id = \"final_model\"  # Change according to the id of the model you train\n",
    "dr_model, dr_conf = get_model_from_run(os.path.join(run_dir, task, run_id))\n",
    "dr_model.to(\"cuda:1\")"
   ]
  },
  {
   "cell_type": "code",
   "execution_count": null,
   "id": "88730ebc",
   "metadata": {},
   "outputs": [],
   "source": [
    "batch_size = 1280  # 1280 #conf.training.batch_size\n",
    "n_dims = 20\n",
    "n_points = dr_conf.training.curriculum.points.end\n",
    "data_sampler = get_data_sampler(dr_conf.training.data, n_dims)\n",
    "task_sampler = get_task_sampler(\n",
    "    dr_conf.training.task, n_dims, batch_size, **dr_conf.training.task_kwargs\n",
    ")"
   ]
  },
  {
   "cell_type": "code",
   "execution_count": null,
   "id": "e766c6d5",
   "metadata": {},
   "outputs": [],
   "source": [
    "seed = 42\n",
    "torch.manual_seed(seed)\n",
    "task = task_sampler()\n",
    "xs = data_sampler.sample_xs(b_size=batch_size, n_points=n_points)\n",
    "ys = task.evaluate(xs)"
   ]
  },
  {
   "cell_type": "code",
   "execution_count": null,
   "id": "5aae3e6c",
   "metadata": {},
   "outputs": [],
   "source": [
    "with torch.no_grad():\n",
    "    transformer_preds = dr_model(xs.to(\"cuda:1\"), ys.to(\"cuda:1\")).cpu()"
   ]
  },
  {
   "cell_type": "code",
   "execution_count": null,
   "id": "ae9d60b4",
   "metadata": {},
   "outputs": [],
   "source": [
    "metric = task.get_metric()\n",
    "transformer_errors = metric(transformer_preds, ys).numpy().squeeze()"
   ]
  },
  {
   "cell_type": "code",
   "execution_count": null,
   "id": "80125221",
   "metadata": {},
   "outputs": [],
   "source": [
    "transformer_errors.mean(0)"
   ]
  },
  {
   "cell_type": "code",
   "execution_count": null,
   "id": "9143b4eb",
   "metadata": {},
   "outputs": [],
   "source": [
    "lsq_preds = [np.zeros(xs.shape[0])]\n",
    "for i in tqdm(range(1, xs.shape[1])):\n",
    "    preds = []\n",
    "    for batch_id in range(xs.shape[0]):\n",
    "        preds.append(\n",
    "            LinearRegression(fit_intercept=False)\n",
    "            .fit(xs[batch_id, :i], ys[batch_id, :i])\n",
    "            .predict(xs[batch_id, i : i + 1])[0]\n",
    "        )\n",
    "    preds = np.array(preds).squeeze()\n",
    "    lsq_preds.append(preds)\n",
    "lsq_preds = np.array(lsq_preds)\n",
    "lsq_preds = torch.tensor(lsq_preds.T).float()"
   ]
  },
  {
   "cell_type": "code",
   "execution_count": null,
   "id": "d544ef7e",
   "metadata": {},
   "outputs": [],
   "source": [
    "lsq_errors = metric(lsq_preds, ys).numpy().squeeze()"
   ]
  },
  {
   "cell_type": "code",
   "execution_count": null,
   "id": "11b0cbac",
   "metadata": {},
   "outputs": [],
   "source": [
    "ridge_preds = [np.zeros(xs.shape[0])]\n",
    "for i in tqdm(range(1, xs.shape[1])):\n",
    "    preds = []\n",
    "    for batch_id in range(xs.shape[0]):\n",
    "        preds.append(\n",
    "            Ridge(fit_intercept=False, alpha=1e-2)\n",
    "            .fit(xs[batch_id, :i], ys[batch_id, :i])\n",
    "            .predict(xs[batch_id, i : i + 1])[0]\n",
    "        )\n",
    "    preds = np.array(preds).squeeze()\n",
    "    ridge_preds.append(preds)\n",
    "ridge_preds = np.array(ridge_preds)\n",
    "ridge_preds = torch.tensor(ridge_preds.T).float()"
   ]
  },
  {
   "cell_type": "code",
   "execution_count": null,
   "id": "1a7c8ef8",
   "metadata": {},
   "outputs": [],
   "source": [
    "ridge_errors = metric(ridge_preds, ys).numpy().squeeze()"
   ]
  },
  {
   "cell_type": "code",
   "execution_count": null,
   "id": "cb6a8eec",
   "metadata": {},
   "outputs": [],
   "source": [
    "lasso_preds = [np.zeros(xs.shape[0])]\n",
    "for i in tqdm(range(1, xs.shape[1])):\n",
    "    preds = []\n",
    "    for batch_id in range(xs.shape[0]):\n",
    "        preds.append(\n",
    "            Lasso(fit_intercept=False, alpha=1e-2)\n",
    "            .fit(xs[batch_id, :i], ys[batch_id, :i])\n",
    "            .predict(xs[batch_id, i : i + 1])[0]\n",
    "        )\n",
    "    preds = np.array(preds).squeeze()\n",
    "    lasso_preds.append(preds)\n",
    "lasso_preds = np.array(lasso_preds)\n",
    "lasso_preds = torch.tensor(lasso_preds.T).float()"
   ]
  },
  {
   "cell_type": "code",
   "execution_count": null,
   "id": "86b570d0",
   "metadata": {},
   "outputs": [],
   "source": [
    "lasso_preds = metric(lasso_preds, ys).numpy().squeeze()"
   ]
  },
  {
   "cell_type": "code",
   "execution_count": null,
   "id": "363cf438",
   "metadata": {},
   "outputs": [],
   "source": [
    "# l2_norm_preds = []\n",
    "# w_stars = []\n",
    "# for b in tqdm(range(xs.shape[0])):\n",
    "#     preds = [0]\n",
    "#     for t in range(xs.shape[1] - 1):\n",
    "#         w_star = Variable([n_dims, 1])\n",
    "#         obj = Minimize(cvxnorm(w_star, 2))\n",
    "#         constraints = [ys[b,:t+1].numpy()[:,np.newaxis] == (xs[b,:t+1].numpy() @ w_star)]\n",
    "#         prob = Problem(obj, constraints)\n",
    "#         result = prob.solve()\n",
    "#         try:\n",
    "#             pred = w_star.value[:,0] @ xs[b,t+1].numpy()\n",
    "#         except:\n",
    "#             pred = 0\n",
    "# #         errors.append((pred - ys[b,t+1].numpy())**2)\n",
    "#         w_stars.append(w_star.value)\n",
    "#         preds.append(pred)\n",
    "#     l2_norm_preds.append(preds)\n",
    "# #     baseline_errors_batch.append(errors)\n",
    "# # np.mean(errors)\n",
    "# l2_norm_preds = torch.tensor(l2_norm_preds).float()"
   ]
  },
  {
   "cell_type": "code",
   "execution_count": null,
   "id": "4f079265",
   "metadata": {},
   "outputs": [],
   "source": [
    "# l2_norm_errors = metric(l2_norm_preds, ys).numpy().squeeze()\n",
    "# l2_norm_errors.shape"
   ]
  },
  {
   "cell_type": "code",
   "execution_count": null,
   "id": "485e7249",
   "metadata": {},
   "outputs": [],
   "source": [
    "# l2_norm_errors.mean(axis = 0)"
   ]
  },
  {
   "cell_type": "code",
   "execution_count": null,
   "id": "b41aba50",
   "metadata": {},
   "outputs": [],
   "source": [
    "def get_df_from_pred_array(pred_arr, n_points, offset=0):\n",
    "    # pred_arr --> b x pts-1\n",
    "    batch_size = pred_arr.shape[0]\n",
    "    flattened_arr = pred_arr.ravel()\n",
    "    points = np.array(list(range(offset, n_points)) * batch_size)\n",
    "    df = pd.DataFrame({\"y\": flattened_arr, \"x\": points})\n",
    "    return df\n",
    "\n",
    "\n",
    "def lineplot_with_ci(pred_or_err_arr, n_points, offset, label, ax, seed):\n",
    "    sns.lineplot(\n",
    "        data=get_df_from_pred_array(pred_or_err_arr, n_points=n_points, offset=offset),\n",
    "        y=\"y\",\n",
    "        x=\"x\",\n",
    "        label=label,\n",
    "        ax=ax,\n",
    "        n_boot=1000,\n",
    "        seed=seed,\n",
    "        ci=90,\n",
    "    )"
   ]
  },
  {
   "cell_type": "code",
   "execution_count": null,
   "id": "7d5efdda",
   "metadata": {},
   "outputs": [],
   "source": [
    "dr_conf.training.task_kwargs[\"sparsity\"]"
   ]
  },
  {
   "cell_type": "code",
   "execution_count": null,
   "id": "b430b97c",
   "metadata": {},
   "outputs": [],
   "source": [
    "sns.set(style=\"whitegrid\", font_scale=1.5)\n",
    "# latexify(4, 3)\n",
    "s = dr_conf.training.task_kwargs[\"sparsity\"]\n",
    "bound = int(2 * s * math.log(n_dims / s) + 5 * s / 4)\n",
    "fig, ax = plt.subplots()\n",
    "# ax.plot(list(range(n_points)), transformer_pe_errors.mean(axis=0), label = \"With Position Encodings\")\n",
    "# ax.plot(list(range(n_points)), transformer_no_pe_errors.mean(axis=0), label = \"Without Position Encodings\")\n",
    "lineplot_with_ci(\n",
    "    transformer_errors / s, n_points, offset=0, label=\"Transformer\", ax=ax, seed=seed\n",
    ")\n",
    "lineplot_with_ci(lsq_errors / s, n_points, offset=0, label=\"OLS\", ax=ax, seed=seed)\n",
    "lineplot_with_ci(lasso_preds / s, n_points, offset=0, label=\"Lasso\", ax=ax, seed=seed)\n",
    "plt.axvline(bound, ls=\"--\", color=\"black\")\n",
    "ax.annotate(\"Bound\", xy=(bound + 0.25, 0.6), color=\"r\", rotation=0)\n",
    "# lineplot_with_ci(l2_norm_errors, n_points, label=\"L-2 Norm Min\", ax=ax, seed=seed)\n",
    "ax.set_xlabel(\"$k$\\n(\\# in-context examples)\")\n",
    "ax.set_ylabel(\"$\\\\texttt{loss@}k$\")\n",
    "ax.set_title(\"Sparse Regression ICL\")\n",
    "format_axes(ax)\n",
    "# plt.axhline(baseline, ls=\"--\", color=\"gray\", label=\"zero estimator\")\n",
    "plt.legend()\n",
    "plt.savefig(\"final_plots/sr_errors.pdf\", dpi=300, bbox_inches=\"tight\")\n",
    "plt.show()"
   ]
  },
  {
   "cell_type": "code",
   "execution_count": null,
   "id": "0d991b60",
   "metadata": {},
   "outputs": [],
   "source": [
    "def recover_weights(model, xs, ys, w_b):\n",
    "    model.to(\"cuda:0\")\n",
    "    batch_size = xs.size(0)\n",
    "    n_dims = w_b.size(1)\n",
    "    es = torch.eye(n_dims).unsqueeze(0).repeat(batch_size, 1, 1)\n",
    "    w_probed = []\n",
    "    for i in range(n_dims):\n",
    "        x_probe = torch.concat([xs, es[:, i : i + 1, :]], axis=1)\n",
    "        y_probe = torch.concat([ys, w_b[:, i : i + 1, 0]], axis=1)\n",
    "        with torch.no_grad():\n",
    "            pred = model(x_probe.to(\"cuda:0\"), y_probe.to(\"cuda:0\")).cpu()\n",
    "        w_is = pred[:, -1:]\n",
    "        w_probed.append(w_is)\n",
    "    w_probed = torch.cat(w_probed, axis=1)\n",
    "    error = ((w_probed - w_b[:, :, 0]) ** 2).mean(axis=1).mean()\n",
    "    cos_sim = torch.nn.CosineSimilarity(dim=1, eps=1e-6)(w_probed, w_b[:, :, 0]).mean()\n",
    "\n",
    "    return w_b, w_probed, error, cos_sim"
   ]
  },
  {
   "cell_type": "code",
   "execution_count": null,
   "id": "c50a5556",
   "metadata": {},
   "outputs": [],
   "source": [
    "def recover_weights_pv2(model, xs, ys, w_b, data_sampler):\n",
    "    model.to(\"cuda:0\")\n",
    "    batch_size = xs.size(0)\n",
    "    n_dims = w_b.size(1)\n",
    "\n",
    "    x_probes = data_sampler.sample_xs(b_size=xs.shape[0], n_points=2 * xs.shape[-1] + 1)\n",
    "    y_probes = []\n",
    "    for i in range(2 * xs.shape[-1] + 1):\n",
    "        x_prompt = torch.concat([xs, x_probes[:, i : i + 1, :]], axis=1)\n",
    "        y_prompt = torch.concat([ys, torch.zeros(xs.shape[0], 1)], axis=1)\n",
    "        with torch.no_grad():\n",
    "            pred = model(x_prompt.to(\"cuda:0\"), y_prompt.to(\"cuda:0\")).cpu()\n",
    "        y_probes.append(pred[:, -1:])\n",
    "\n",
    "    y_probes = torch.cat(y_probes, axis=1)\n",
    "    w_probed = []\n",
    "\n",
    "    for batch in range(len(x_probes)):\n",
    "        x, y = x_probes[batch], y_probes[batch]\n",
    "        probe_model = LinearRegression(fit_intercept=False)\n",
    "        probe_model.fit(x, y)\n",
    "        w_probed.append(torch.tensor(probe_model.coef_[np.newaxis]).float())\n",
    "\n",
    "    w_probed = torch.cat(w_probed, axis=0)\n",
    "    error = ((w_probed - w_b[:, :, 0]) ** 2).mean(axis=1).mean()\n",
    "    cos_sim = torch.nn.CosineSimilarity(dim=1, eps=1e-6)(w_probed, w_b[:, :, 0]).mean()\n",
    "\n",
    "    return w_b, w_probed, error, cos_sim"
   ]
  },
  {
   "cell_type": "code",
   "execution_count": null,
   "id": "974aa50b",
   "metadata": {},
   "outputs": [],
   "source": [
    "seed = 42\n",
    "torch.manual_seed(seed)\n",
    "batch_size = 1280\n",
    "n_points = dr_conf.training.curriculum.points.end\n",
    "data_sampler = get_data_sampler(dr_conf.training.data, n_dims)\n",
    "task_sampler = get_task_sampler(\n",
    "    dr_conf.training.task, n_dims, batch_size, **dr_conf.training.task_kwargs\n",
    ")\n",
    "task = task_sampler()\n",
    "xs = data_sampler.sample_xs(b_size=batch_size, n_points=n_points)\n",
    "ys = task.evaluate(xs)"
   ]
  },
  {
   "cell_type": "code",
   "execution_count": null,
   "id": "9d59b76b",
   "metadata": {},
   "outputs": [],
   "source": [
    "w_b, w_probed, error, cos_sim = recover_weights_pv2(\n",
    "    dr_model, xs[:, :-1], ys[:, :-1], task.w_b, data_sampler\n",
    ")"
   ]
  },
  {
   "cell_type": "code",
   "execution_count": null,
   "id": "6a642f93",
   "metadata": {},
   "outputs": [],
   "source": [
    "w_probed"
   ]
  },
  {
   "cell_type": "code",
   "execution_count": null,
   "id": "d19e8de6",
   "metadata": {},
   "outputs": [],
   "source": [
    "cos_sim"
   ]
  },
  {
   "cell_type": "code",
   "execution_count": null,
   "id": "1d4946ed",
   "metadata": {},
   "outputs": [],
   "source": [
    "w_probed_vecs = []\n",
    "for n_points_i in tqdm(range(1, n_points)):\n",
    "    _, w_probed, _, cos_sim = recover_weights_pv2(\n",
    "        dr_model, xs[:, :n_points_i], ys[:, :n_points_i], task.w_b, data_sampler\n",
    "    )\n",
    "    w_probed_vecs.append(w_probed)"
   ]
  },
  {
   "cell_type": "code",
   "execution_count": null,
   "id": "07bc4d72",
   "metadata": {},
   "outputs": [],
   "source": [
    "# ridge_preds = [np.zeros(xs.shape[0])]\n",
    "lsq_weights = []\n",
    "for i in tqdm(range(1, xs.shape[1])):\n",
    "    weights = []\n",
    "    for batch_id in range(xs.shape[0]):\n",
    "        lsq_model = LinearRegression(fit_intercept=False)\n",
    "        lsq_model.fit(xs[batch_id, :i], ys[batch_id, :i])\n",
    "        weights.append(lsq_model.coef_)\n",
    "    lsq_weights.append(weights)\n",
    "lsq_weights = np.array(lsq_weights)\n",
    "# ridge_weights = torch.tensor(ridge_weights).transpose(0,1).float()"
   ]
  },
  {
   "cell_type": "code",
   "execution_count": null,
   "id": "7af79b5f",
   "metadata": {},
   "outputs": [],
   "source": [
    "lsq_weights = torch.tensor(lsq_weights).transpose(0, 1).float()"
   ]
  },
  {
   "cell_type": "code",
   "execution_count": null,
   "id": "03238ab2",
   "metadata": {},
   "outputs": [],
   "source": [
    "# ridge_preds = [np.zeros(xs.shape[0])]\n",
    "lasso_weights = []\n",
    "for i in tqdm(range(1, xs.shape[1])):\n",
    "    weights = []\n",
    "    for batch_id in range(xs.shape[0]):\n",
    "        lasso_model = Lasso(fit_intercept=False, alpha=1e-2)\n",
    "        lasso_model.fit(xs[batch_id, :i], ys[batch_id, :i])\n",
    "        weights.append(lasso_model.coef_)\n",
    "    lasso_weights.append(weights)\n",
    "lasso_weights = np.array(lasso_weights)\n",
    "lasso_weights = torch.tensor(lasso_weights).transpose(0, 1).float()"
   ]
  },
  {
   "cell_type": "code",
   "execution_count": null,
   "id": "23682e70",
   "metadata": {},
   "outputs": [],
   "source": [
    "# l1_norm_weights = []\n",
    "# w_stars = []\n",
    "# for b in tqdm(range(xs.shape[0])):\n",
    "#     weights = []\n",
    "#     for t in range(xs.shape[1] - 1):\n",
    "#         w_star = Variable([n_dims, 1])\n",
    "#         obj = Minimize(cvxnorm(w_star, 1))\n",
    "#         constraints = [ys[b,:t+1].numpy()[:,np.newaxis] == (xs[b,:t+1].numpy() @ w_star)]\n",
    "#         prob = Problem(obj, constraints)\n",
    "#         result = prob.solve()\n",
    "#         try:\n",
    "#             pred = w_star.value[:,0] @ xs[b,t+1].numpy()\n",
    "#         except:\n",
    "#             pred = 0\n",
    "# #         errors.append((pred - ys[b,t+1].numpy())**2)\n",
    "#         weights.append(w_star.value)\n",
    "#     l1_norm_weights.append(weights)\n",
    "# #     baseline_errors_batch.append(errors)\n",
    "# # np.mean(errors)\n",
    "# l1_norm_weights = torch.tensor(l1_norm_weights).float()"
   ]
  },
  {
   "cell_type": "code",
   "execution_count": null,
   "id": "beec3fc0",
   "metadata": {},
   "outputs": [],
   "source": [
    "# l1_norm_weights = torch.tensor([weights[:20] for weights in l1_norm_weights]).float()"
   ]
  },
  {
   "cell_type": "code",
   "execution_count": null,
   "id": "6e51a837",
   "metadata": {},
   "outputs": [],
   "source": [
    "# l1_norm_weights.shape"
   ]
  },
  {
   "cell_type": "code",
   "execution_count": null,
   "id": "4b313483",
   "metadata": {},
   "outputs": [],
   "source": [
    "# cos_sims_trans_lsq = []\n",
    "# cos_sims_trans_lasso = []\n",
    "# cos_sims_trans_l1min = []\n",
    "# cos_sims_trans_gold = []\n",
    "# gold_weights = task.w_b\n",
    "# for n_points_i in tqdm(range(1, n_points)):\n",
    "\n",
    "#     trans_weight_vect = w_probed_vecs[n_points_i - 1].squeeze()\n",
    "#     lsq_weight_vect = lsq_weights[:, n_points_i - 1].squeeze()\n",
    "#     lasso_weight_vect = lasso_weights[:, n_points_i - 1].squeeze()\n",
    "#     l1_min_weight_vect = l1_norm_weights[:, min(n_points_i - 1, l1_norm_weights.shape[1] - 1)].squeeze()\n",
    "\n",
    "#     cos_sims_trans_lsq.append(torch.nn.CosineSimilarity(dim = 1, eps = 1e-6)(trans_weight_vect, lsq_weight_vect))\n",
    "#     cos_sims_trans_lasso.append(torch.nn.CosineSimilarity(dim = 1, eps = 1e-6)(trans_weight_vect, lasso_weight_vect))\n",
    "#     cos_sims_trans_l1min.append(torch.nn.CosineSimilarity(dim = 1, eps = 1e-6)(trans_weight_vect, l1_min_weight_vect))\n",
    "#     cos_sims_trans_gold.append(torch.nn.CosineSimilarity(dim = 1, eps = 1e-6)(trans_weight_vect, gold_weights.squeeze()))"
   ]
  },
  {
   "cell_type": "code",
   "execution_count": null,
   "id": "afd5cccc",
   "metadata": {},
   "outputs": [],
   "source": [
    "# cos_sims_trans_lsq = torch.vstack(cos_sims_trans_lsq).transpose(0,1)\n",
    "# cos_sims_trans_lasso = torch.vstack(cos_sims_trans_lasso).transpose(0,1)\n",
    "# cos_sims_trans_l1min = torch.vstack(cos_sims_trans_l1min).transpose(0,1)\n",
    "# cos_sims_trans_gold = torch.vstack(cos_sims_trans_gold).transpose(0,1)"
   ]
  },
  {
   "cell_type": "code",
   "execution_count": null,
   "id": "ae2bb4fc",
   "metadata": {},
   "outputs": [],
   "source": [
    "mse_trans_lsq = []\n",
    "mse_trans_lasso = []\n",
    "# mse_trans_l1min = []\n",
    "mse_trans_gold = []\n",
    "gold_weights = task.w_b\n",
    "for n_points_i in tqdm(range(1, n_points)):\n",
    "    trans_weight_vect = w_probed_vecs[n_points_i - 1].squeeze()\n",
    "    lsq_weight_vect = lsq_weights[:, n_points_i - 1].squeeze()\n",
    "    lasso_weight_vect = lasso_weights[:, n_points_i - 1].squeeze()\n",
    "    #     l1_min_weight_vect = l1_norm_weights[:, min(n_points_i - 1, l1_norm_weights.shape[1] - 1)].squeeze()\n",
    "\n",
    "    mse_trans_lsq.append(((trans_weight_vect - lsq_weight_vect) ** 2).mean(axis=-1))\n",
    "    mse_trans_lasso.append(((trans_weight_vect - lasso_weight_vect) ** 2).mean(axis=-1))\n",
    "    #     mse_trans_l1min.append(((trans_weight_vect - l1_min_weight_vect)**2).mean(axis = -1))\n",
    "    mse_trans_gold.append(\n",
    "        ((trans_weight_vect - gold_weights.squeeze()) ** 2).mean(axis=-1)\n",
    "    )"
   ]
  },
  {
   "cell_type": "code",
   "execution_count": null,
   "id": "3c4b20c0",
   "metadata": {},
   "outputs": [],
   "source": [
    "mse_trans_lsq = torch.vstack(mse_trans_lsq).transpose(0, 1)\n",
    "mse_trans_lasso = torch.vstack(mse_trans_lasso).transpose(0, 1)\n",
    "# mse_trans_l1min = torch.vstack(mse_trans_l1min).transpose(0,1)\n",
    "mse_trans_gold = torch.vstack(mse_trans_gold).transpose(0, 1)"
   ]
  },
  {
   "cell_type": "code",
   "execution_count": null,
   "id": "8181dbeb",
   "metadata": {},
   "outputs": [],
   "source": [
    "sns.set(style=\"whitegrid\", font_scale=1.5)\n",
    "# latexify(4, 3)\n",
    "\n",
    "fig, ax = plt.subplots()\n",
    "# ax.plot(list(range(n_points)), transformer_pe_errors.mean(axis=0), label = \"With Position Encodings\")\n",
    "# ax.plot(list(range(n_points)), transformer_no_pe_errors.mean(axis=0), label = \"Without Position Encodings\")\n",
    "lineplot_with_ci(\n",
    "    mse_trans_gold[:, :-1] * 20 / 3,\n",
    "    n_points - 1,\n",
    "    offset=1,\n",
    "    label=\"$(w^{\\mathrm{probe}}, w)$\",\n",
    "    ax=ax,\n",
    "    seed=seed,\n",
    ")\n",
    "# lineplot_with_ci(lsq_errors, n_points, label=\"Least Squares\", ax=ax, seed=seed)\n",
    "lineplot_with_ci(\n",
    "    mse_trans_lsq[:, :-1] * 20 / 3,\n",
    "    n_points - 1,\n",
    "    offset=1,\n",
    "    label=\"$(w^{\\mathrm{probe}}, w^{\\mathrm{OLS}})$\",\n",
    "    ax=ax,\n",
    "    seed=seed,\n",
    ")\n",
    "lineplot_with_ci(\n",
    "    mse_trans_lasso[:, :-1] * 20 / 3,\n",
    "    n_points - 1,\n",
    "    offset=1,\n",
    "    label=\"$(w^{\\mathrm{probe}}, w^{\\mathrm{Lasso}})$\",\n",
    "    ax=ax,\n",
    "    seed=seed,\n",
    ")\n",
    "# lineplot_with_ci(cos_sims_trans_l1min[:,:-1], n_points - 1,offset = 1, label=\"$(w^{\\mathrm{probe}}, w^{\\ell_1})$\", ax=ax, seed=seed)\n",
    "# lineplot_with_ci(l2_norm_errors, n_points, label=\"L-2 Norm Min\", ax=ax, seed=seed)\n",
    "ax.set_xlabel(\"$k$\\n(\\# in-context examples)\")\n",
    "ax.set_ylabel(\"mean squared error\")\n",
    "ax.set_title(\"Sparse Regression ICL\")\n",
    "format_axes(ax)\n",
    "plt.axvline(bound, ls=\"--\", color=\"black\")\n",
    "ax.annotate(\"Bound\", xy=(bound + 0.25, 0.5), color=\"r\", rotation=0)\n",
    "# plt.axhline(baseline, ls=\"--\", color=\"gray\", label=\"zero estimator\")\n",
    "plt.legend()\n",
    "plt.savefig(\"final_plots/sr_probing_mse.pdf\", dpi=300, bbox_inches=\"tight\")\n",
    "plt.show()"
   ]
  },
  {
   "cell_type": "code",
   "execution_count": null,
   "id": "957e562d",
   "metadata": {},
   "outputs": [],
   "source": [
    "# sns.set(style = \"whitegrid\", font_scale=1.5)\n",
    "# # latexify(4, 3)\n",
    "\n",
    "# fig, ax = plt.subplots()\n",
    "# # ax.plot(list(range(n_points)), transformer_pe_errors.mean(axis=0), label = \"With Position Encodings\")\n",
    "# # ax.plot(list(range(n_points)), transformer_no_pe_errors.mean(axis=0), label = \"Without Position Encodings\")\n",
    "# lineplot_with_ci(cos_sims_trans_gold[:,:-1], n_points - 1, offset = 1, label=\"$(w^{\\mathrm{probe}}, w)$\", ax=ax, seed=seed)\n",
    "# # lineplot_with_ci(lsq_errors, n_points, label=\"Least Squares\", ax=ax, seed=seed)\n",
    "# lineplot_with_ci(cos_sims_trans_lsq[:,:-1], n_points - 1,offset = 1, label=\"$(w^{\\mathrm{probe}}, w^{\\mathrm{OLS}})$\", ax=ax, seed=seed)\n",
    "# lineplot_with_ci(cos_sims_trans_lasso[:,:-1], n_points - 1,offset = 1, label=\"$(w^{\\mathrm{probe}}, w^{\\mathrm{Lasso}})$\", ax=ax, seed=seed)\n",
    "# # lineplot_with_ci(cos_sims_trans_l1min[:,:-1], n_points - 1,offset = 1, label=\"$(w^{\\mathrm{probe}}, w^{\\ell_1})$\", ax=ax, seed=seed)\n",
    "# # lineplot_with_ci(l2_norm_errors, n_points, label=\"L-2 Norm Min\", ax=ax, seed=seed)\n",
    "# ax.set_xlabel(\"$k$\\n(\\# in-context examples)\")\n",
    "# ax.set_ylabel(\"cosine similarity\")\n",
    "# ax.set_title(\"Sparse Regression ICL\")\n",
    "# plt.axvline(bound, ls=\"--\", color=\"black\")\n",
    "# ax.annotate('Bound', xy=(bound + 0.25, 0.6), color='r', rotation=0)\n",
    "# format_axes(ax)\n",
    "# # plt.axhline(baseline, ls=\"--\", color=\"gray\", label=\"zero estimator\")\n",
    "# plt.legend()\n",
    "# plt.savefig(\"final_plots/sr_probing.pdf\", dpi = 300, bbox_inches = \"tight\")\n",
    "# plt.show()"
   ]
  },
  {
   "cell_type": "code",
   "execution_count": null,
   "id": "99d86da1",
   "metadata": {},
   "outputs": [],
   "source": [
    "w_probed_vecs_t = torch.cat(\n",
    "    [vec.unsqueeze(0) for vec in w_probed_vecs], axis=0\n",
    ").transpose(0, 1)"
   ]
  },
  {
   "cell_type": "code",
   "execution_count": null,
   "id": "577e9a94",
   "metadata": {},
   "outputs": [],
   "source": [
    "w_probed_vecs_t[0][-1]"
   ]
  },
  {
   "cell_type": "code",
   "execution_count": null,
   "id": "08f5f8d0",
   "metadata": {},
   "outputs": [],
   "source": [
    "probe_weights_batch0 = w_probed_vecs_t[0][:20]\n",
    "\n",
    "sns.heatmap(probe_weights_batch0, cmap=\"coolwarm\", linewidth=1.5)\n",
    "plt.title(\"$w^{probe}$\")\n",
    "plt.xlabel(\"Dim\")\n",
    "plt.ylabel(\"$k$\\n(\\# in-context examples)\")\n",
    "plt.savefig(\"final_plots/sparse_w_probe.pdf\", dpi=300, bbox_inches=\"tight\")"
   ]
  },
  {
   "cell_type": "code",
   "execution_count": null,
   "id": "100278be",
   "metadata": {},
   "outputs": [],
   "source": [
    "probe_weights_batch0.shape"
   ]
  },
  {
   "cell_type": "code",
   "execution_count": null,
   "id": "380045f6",
   "metadata": {},
   "outputs": [],
   "source": []
  }
 ],
 "metadata": {
  "kernelspec": {
   "display_name": "Python 3 (ipykernel)",
   "language": "python",
   "name": "python3"
  },
  "language_info": {
   "codemirror_mode": {
    "name": "ipython",
    "version": 3
   },
   "file_extension": ".py",
   "mimetype": "text/x-python",
   "name": "python",
   "nbconvert_exporter": "python",
   "pygments_lexer": "ipython3",
   "version": "3.8.12"
  }
 },
 "nbformat": 4,
 "nbformat_minor": 5
}
